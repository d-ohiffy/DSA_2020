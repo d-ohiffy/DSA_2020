{
  "nbformat": 4,
  "nbformat_minor": 0,
  "metadata": {
    "colab": {
      "provenance": [],
      "authorship_tag": "ABX9TyNlKf7dPXBFEvKUGoPumpXW",
      "include_colab_link": true
    },
    "kernelspec": {
      "name": "python3",
      "display_name": "Python 3"
    },
    "language_info": {
      "name": "python"
    }
  },
  "cells": [
    {
      "cell_type": "markdown",
      "metadata": {
        "id": "view-in-github",
        "colab_type": "text"
      },
      "source": [
        "<a href=\"https://colab.research.google.com/github/d-ohiffy/DSA_2020/blob/master/TicTacToe.ipynb\" target=\"_parent\"><img src=\"https://colab.research.google.com/assets/colab-badge.svg\" alt=\"Open In Colab\"/></a>"
      ]
    },
    {
      "cell_type": "markdown",
      "source": [
        "**Tic Tac Toe game using python without animation**"
      ],
      "metadata": {
        "id": "gTZEAVkY6Xou"
      }
    },
    {
      "cell_type": "markdown",
      "source": [
        "1. Error handling to validate input\n",
        "\n",
        "\n"
      ],
      "metadata": {
        "id": "XkWs_sTQEV4S"
      }
    },
    {
      "cell_type": "markdown",
      "source": [
        "**Display Grid**"
      ],
      "metadata": {
        "id": "suYEz6CY6pqM"
      }
    },
    {
      "cell_type": "code",
      "source": [
        "# define grid\n",
        "grid = [[ ' ' for x in range(3)] for y in range(3) ]\n",
        "def grid_def():\n",
        "  grid = [[ ' ' for x in range(3)] for y in range(3) ]"
      ],
      "metadata": {
        "id": "JeUte84_6n0T"
      },
      "execution_count": 12,
      "outputs": []
    },
    {
      "cell_type": "code",
      "source": [
        "# define function to display grid\n",
        "def display():\n",
        "  for x in grid:\n",
        "    print(x)"
      ],
      "metadata": {
        "id": "St8J3GA3A289"
      },
      "execution_count": 13,
      "outputs": []
    },
    {
      "cell_type": "markdown",
      "source": [
        "**Accept user input**\n"
      ],
      "metadata": {
        "id": "3Yfn-o_d-re2"
      }
    },
    {
      "cell_type": "code",
      "source": [
        "def take_input(counter):\n",
        "  #add error handling here\n",
        "  if counter%2==0:\n",
        "    player = 2\n",
        "  else:\n",
        "    player = 1\n",
        "  ip = True\n",
        "  while(ip):\n",
        "    row, col= map(int,input(f\"Player {player} : Enter row and column \").split(' '))\n",
        "    #x, y = map(int, input().split())\n",
        "    if row in range(1,4) and col in range(1,4):\n",
        "      if grid[row-1][col-1] == ' ':\n",
        "        if player==1:\n",
        "          grid[row-1][col-1] = 'X'\n",
        "        else:\n",
        "          grid[row-1][col-1] = '0'\n",
        "      else:\n",
        "        print('row and column should be in range 1-3')\n",
        "      ip = False\n",
        "    else:\n",
        "      print('cell is already filled')\n",
        "      continue\n",
        "  display()\n",
        ""
      ],
      "metadata": {
        "id": "uxjlsmPf7KOR"
      },
      "execution_count": 8,
      "outputs": []
    },
    {
      "cell_type": "markdown",
      "source": [
        "**Validate cells**"
      ],
      "metadata": {
        "id": "SE_N8Xa1HWQM"
      }
    },
    {
      "cell_type": "code",
      "source": [
        "def validate():\n",
        "  # Diagonal-Wise Check using set_diagonal_val and set_diagonal_2\n",
        "  set_diagonal_1 = set()\n",
        "  set_diagonal_2 = set()\n",
        "  for x in range(3):\n",
        "    set_row_val = set()\n",
        "    set_col_val = set()\n",
        "    for y in range(3):\n",
        "      # row-wise  and column-check using sets set_row_val and set_col_val\n",
        "      set_row_val.add(grid[x][y])\n",
        "      set_col_val.add(grid[y][x])\n",
        "      if x==y:\n",
        "        set_diagonal_1.add(grid[x][y])\n",
        "      if abs(x-y)==2:\n",
        "        set_diagonal_2.add(grid[x][y])\n",
        "    # Validates Row\n",
        "    if(len(set_row_val)==1) and ' ' not in set_row_val:\n",
        "      return True\n",
        "    # Validates Col\n",
        "    if(len(set_col_val)==1) and ' ' not in set_col_val:\n",
        "      #print(f'{set_col_val} Wins')\n",
        "      return True\n",
        "  # Validates Diagonals\n",
        "  if(len(set_diagonal_1)==1)  and ' ' not in set_diagonal_1:\n",
        "    #print('diagonal_1 wins')\n",
        "    return True\n",
        "  if(len(set_diagonal_2)==1)  and ' ' not in set_diagonal_2:\n",
        "    #print('diagonal_2 wins')\n",
        "    return True\n",
        "  return False"
      ],
      "metadata": {
        "id": "1ncfSsC3HdYg"
      },
      "execution_count": 9,
      "outputs": []
    },
    {
      "cell_type": "markdown",
      "source": [
        "## **Game loop**\n",
        "\n",
        "---\n",
        "\n",
        "\n",
        "\n",
        "---\n",
        "\n",
        "\n"
      ],
      "metadata": {
        "id": "uaJpDgZrHXR1"
      }
    },
    {
      "cell_type": "code",
      "source": [
        "def game_loop():\n",
        "  count = 0\n",
        "  display()\n",
        "  grid_def()\n",
        "  while(count<=9):\n",
        "    count +=1\n",
        "    take_input(count)\n",
        "    result= validate()\n",
        "    if result is False and count==9:\n",
        "      print(\"It's a Tie\")\n",
        "      return False\n",
        "    elif result is True:\n",
        "      if count%2!=0:\n",
        "        print('Player1 wins!!')\n",
        "      else:\n",
        "        print('Player2 wins!!')\n",
        "      return True\n",
        ""
      ],
      "metadata": {
        "id": "PunW5M-az6nh"
      },
      "execution_count": 11,
      "outputs": []
    },
    {
      "cell_type": "markdown",
      "source": [
        "# Start Game\n",
        "❌\n",
        "0\n",
        "---\n",
        "\n",
        "\n",
        "\n",
        "---\n",
        "\n"
      ],
      "metadata": {
        "id": "oUlJv59d4si0"
      }
    },
    {
      "cell_type": "code",
      "source": [
        "game_loop()\n"
      ],
      "metadata": {
        "colab": {
          "base_uri": "https://localhost:8080/"
        },
        "id": "dnZq47q6khlT",
        "outputId": "696aa6a0-8fdc-4347-fb9c-475a72269242"
      },
      "execution_count": 15,
      "outputs": [
        {
          "output_type": "stream",
          "name": "stdout",
          "text": [
            "['X', ' ', '0']\n",
            "[' ', 'X', ' ']\n",
            "[' ', ' ', ' ']\n",
            "Player 1 : Enter row and column 2 3\n",
            "['X', ' ', '0']\n",
            "[' ', 'X', 'X']\n",
            "[' ', ' ', ' ']\n",
            "Player 2 : Enter row and column 1 2\n",
            "['X', '0', '0']\n",
            "[' ', 'X', 'X']\n",
            "[' ', ' ', ' ']\n",
            "Player 1 : Enter row and column 3 3\n",
            "['X', '0', '0']\n",
            "[' ', 'X', 'X']\n",
            "[' ', ' ', 'X']\n",
            "Player1 wins!!\n"
          ]
        },
        {
          "output_type": "execute_result",
          "data": {
            "text/plain": [
              "True"
            ]
          },
          "metadata": {},
          "execution_count": 15
        }
      ]
    }
  ]
}